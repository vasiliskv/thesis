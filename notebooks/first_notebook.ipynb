{
 "cells": [
  {
   "cell_type": "markdown",
   "metadata": {},
   "source": [
    "Import libraries and the data. Normalize and transpose"
   ]
  },
  {
   "cell_type": "code",
   "execution_count": null,
   "metadata": {},
   "outputs": [],
   "source": [
    "%matplotlib inline\n",
    "import pandas as pd\n",
    "import numpy as np\n",
    "import matplotlib.pyplot as plt\n",
    "from scipy import stats\n",
    "from sklearn import preprocessing\n",
    "\n",
    "# use seaborn plotting defaults\n",
    "import seaborn as sns; sns.set()"
   ]
  },
  {
   "cell_type": "code",
   "execution_count": null,
   "metadata": {},
   "outputs": [],
   "source": [
    "#features = pd.read_csv(\"../Downloads/labeled_features.csv\", header = -1)\n",
    "#features.rename(columns={112 : 'label'}, inplace=True)\n",
    "#features['label'] = features['label'] > 0\n",
    "#features.to_csv(\"new_labeled_features.csv\")\n",
    "features = pd.read_csv(\"new_labeled_features.csv\",index_col=0)\n",
    "tfeatures = features.T\n",
    "normalizer = preprocessing.Normalizer().fit(tfeatures)\n",
    "nfeatures = normalizer.transform(tfeatures)"
   ]
  },
  {
   "cell_type": "code",
   "execution_count": null,
   "metadata": {},
   "outputs": [],
   "source": [
    "tfeatures.shape"
   ]
  },
  {
   "cell_type": "markdown",
   "metadata": {},
   "source": [
    "\n",
    "\n",
    "\n",
    "\n",
    "First 28 attributes (first signal) grouped by four"
   ]
  },
  {
   "cell_type": "code",
   "execution_count": null,
   "metadata": {},
   "outputs": [],
   "source": [
    "for i in range(7):\n",
    "    fig, ax = plt.subplots(4)\n",
    "    k = 4*i\n",
    "    ax[0].plot(tfeatures.iloc[k].values)\n",
    "    ax[1].plot(tfeatures.iloc[k+1].values)\n",
    "    ax[2].plot(tfeatures.iloc[k+2].values)\n",
    "    ax[3].plot(tfeatures.iloc[k+3].values)"
   ]
  },
  {
   "cell_type": "code",
   "execution_count": null,
   "metadata": {},
   "outputs": [],
   "source": [
    "for i in range(7):\n",
    "    fig, ax = plt.subplots(4)\n",
    "    k = 4*i\n",
    "    ax[0].plot(nfeatures[k])\n",
    "    ax[1].plot(nfeatures[k+1])\n",
    "    ax[2].plot(nfeatures[k+2])\n",
    "    ax[3].plot(nfeatures[k+3])"
   ]
  },
  {
   "cell_type": "markdown",
   "metadata": {},
   "source": [
    "\n",
    "\n",
    "\n",
    "\n",
    "Feature selection using a method and feature importance from fitting a model. Dimensiolality reduction using PCA"
   ]
  },
  {
   "cell_type": "code",
   "execution_count": null,
   "metadata": {},
   "outputs": [],
   "source": [
    "# Recursive Feature Elimination\n",
    "from sklearn import datasets\n",
    "from sklearn.feature_selection import RFE\n",
    "from sklearn.linear_model import LogisticRegression\n",
    "# load the iris datasets\n",
    "# create a base classifier used to evaluate a subset of attributes\n",
    "model = LogisticRegression()\n",
    "# create the RFE model and select 3 attributes\n",
    "rfe = RFE(model, 3)\n",
    "#feaes.rename(columns={112 : 'label'}, inplace=True)\n",
    "rfe = rfe.fit(features.iloc[:, :28], features[\"label\"])\n",
    "# summarize the selection of the attributes\n",
    "print(rfe.support_)\n",
    "print(rfe.ranking_)"
   ]
  },
  {
   "cell_type": "code",
   "execution_count": null,
   "metadata": {},
   "outputs": [],
   "source": [
    "# Feature Importance\n",
    "from sklearn import datasets\n",
    "from sklearn import metrics\n",
    "from sklearn.ensemble import ExtraTreesClassifier\n",
    "# load the iris datasets\n",
    "dataset = datasets.load_iris()\n",
    "# fit an Extra Trees model to the data\n",
    "model = ExtraTreesClassifier()\n",
    "model.fit(features.iloc[:, :28], features[\"label\"])\n",
    "# display the relative importance of each attribute\n",
    "print(model.feature_importances_)"
   ]
  },
  {
   "cell_type": "code",
   "execution_count": null,
   "metadata": {
    "scrolled": false
   },
   "outputs": [],
   "source": [
    "from sklearn.decomposition import PCA\n",
    "pca = PCA(n_components=2)\n",
    "projected = pca.fit_transform(features.iloc[:, :28])\n",
    "plt.scatter(projected[:, 0], projected[:, 1],\n",
    "            c=features['label'], edgecolor='none', alpha=0.5,\n",
    "            cmap=plt.cm.get_cmap('Blues', 2))\n",
    "plt.xlabel('component 1')\n",
    "plt.ylabel('component 2')\n",
    "plt.colorbar();"
   ]
  },
  {
   "cell_type": "markdown",
   "metadata": {},
   "source": [
    "\n",
    "\n",
    "\n",
    "\n",
    "\n",
    "Plots in general"
   ]
  },
  {
   "cell_type": "code",
   "execution_count": null,
   "metadata": {
    "scrolled": true
   },
   "outputs": [],
   "source": [
    "fig = plt.figure(figsize = (30,15))\n",
    "plt.plot(tfeatures.iloc[0].values,'-ok')\n",
    "fig = plt.figure(figsize = (30,15))\n",
    "plt.scatter(tfeatures.columns, tfeatures.iloc[0].values, c=features.label, cmap='viridis')\n",
    "plt.colorbar();\n",
    "fig.savefig(\"figures/scatter.png\")"
   ]
  },
  {
   "cell_type": "code",
   "execution_count": null,
   "metadata": {
    "scrolled": true
   },
   "outputs": [],
   "source": [
    "for i in range(4):\n",
    "    fig = plt.figure(figsize = (100,30))\n",
    "    plt.plot(tfeatures.iloc[28*i].values)\n",
    "    a = np.zeros((4146,1)) + np.array([tfeatures.iloc[28*i].mean()])\n",
    "    plt.plot(features.index, a)\n",
    "    fig.savefig('./figures/attribute' + str(28*i) + '.png')"
   ]
  },
  {
   "cell_type": "code",
   "execution_count": null,
   "metadata": {},
   "outputs": [],
   "source": [
    "fig = plt.figure(figsize = (100,30))\n",
    "plt.plot(tfeatures.iloc[0].values, label=str(1))\n",
    "plt.plot(tfeatures.iloc[28].values, label=str(2))\n",
    "plt.plot(tfeatures.iloc[56].values, label=str(3))\n",
    "plt.plot(tfeatures.iloc[84].values, label=str(4))\n",
    "plt.legend()\n",
    "    #a = np.zeros((4146,1)) + np.array([tfeatures.iloc[28*i].mean()])\n",
    "    #plt.plot(features.index, a)\n",
    "fig.savefig('./figures/attributes.png')"
   ]
  },
  {
   "cell_type": "code",
   "execution_count": null,
   "metadata": {},
   "outputs": [],
   "source": [
    "fig = plt.figure(figsize = (100,30))\n",
    "plt.plot(nfeatures[0], label=str(1))\n",
    "plt.plot(nfeatures[28], label=str(2))\n",
    "plt.plot(nfeatures[56], label=str(3))\n",
    "plt.plot(nfeatures[84], label=str(4))\n",
    "plt.legend()\n",
    "    #a = np.zeros((4146,1)) + np.array([tfeatures.iloc[28*i].mean()])\n",
    "    #plt.plot(features.index, a)\n",
    "fig.savefig('./figures/attributes.png')"
   ]
  },
  {
   "cell_type": "markdown",
   "metadata": {},
   "source": [
    "\n",
    "\n",
    "\n",
    "\n",
    "\n",
    "Scatter Matrices"
   ]
  },
  {
   "cell_type": "code",
   "execution_count": null,
   "metadata": {
    "scrolled": false
   },
   "outputs": [],
   "source": [
    "featureLabels = features['label']\n",
    "featuresPart = pd.concat([features.iloc[:, :4], featureLabels], axis=1)\n",
    "sns.pairplot(featuresPart, hue='label', height=2.5);"
   ]
  },
  {
   "cell_type": "code",
   "execution_count": null,
   "metadata": {},
   "outputs": [],
   "source": [
    "featureLabels = features['label']\n",
    "featuresPart = pd.concat([features.iloc[:, :4], featureLabels], axis=1)\n",
    "sns.pairplot(featuresPart, hue='label', height=2.5);"
   ]
  },
  {
   "cell_type": "code",
   "execution_count": null,
   "metadata": {
    "scrolled": false
   },
   "outputs": [],
   "source": [
    "feat = features.copy()\n",
    "\n",
    "featLabels = feat['label']\n",
    "featPart = pd.concat([feat.iloc[:, :28], featLabels], axis=1)\n",
    "sns.pairplot(featPart, hue='label', height=2.5);"
   ]
  }
 ],
 "metadata": {
  "kernelspec": {
   "display_name": "Python 3",
   "language": "python",
   "name": "python3"
  },
  "language_info": {
   "codemirror_mode": {
    "name": "ipython",
    "version": 3
   },
   "file_extension": ".py",
   "mimetype": "text/x-python",
   "name": "python",
   "nbconvert_exporter": "python",
   "pygments_lexer": "ipython3",
   "version": "3.7.0"
  }
 },
 "nbformat": 4,
 "nbformat_minor": 2
}
