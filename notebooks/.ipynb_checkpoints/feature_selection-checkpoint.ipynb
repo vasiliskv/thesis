{
 "cells": [
  {
   "cell_type": "code",
   "execution_count": 2,
   "metadata": {},
   "outputs": [
    {
     "data": {
      "text/plain": [
       "[<matplotlib.lines.Line2D at 0x7fa5fb071f60>]"
      ]
     },
     "execution_count": 2,
     "metadata": {},
     "output_type": "execute_result"
    },
    {
     "data": {
      "image/png": "[encoded data removed]",
      "text/plain": [
       "<Figure size 432x288 with 1 Axes>"
      ]
     },
     "metadata": {},
     "output_type": "display_data"
    }
   ],
   "source": [
    "%matplotlib inline\n",
    "import pandas as pd\n",
    "import numpy as np\n",
    "import matplotlib.pyplot as plt\n",
    "from scipy import stats\n",
    "from sklearn import preprocessing\n",
    "\n",
    "# use seaborn plotting defaults\n",
    "import seaborn as sns; sns.set()\n",
    "\n",
    "\n",
    "features = pd.read_csv(\"../data/new_labeled_features.csv\",index_col=0)\n",
    "tfeatures = features.T\n",
    "normalizer = preprocessing.Normalizer()\n",
    "nfeatures2 = normalizer.transform(tfeatures)\n",
    "\n",
    "plt.plot(nfeatures2[0])"
   ]
  },
  {
   "cell_type": "code",
   "execution_count": null,
   "metadata": {},
   "outputs": [],
   "source": [
    "# Recursive Feature Elimination\n",
    "from sklearn.svm import SVC\n",
    "from sklearn.feature_selection import RFE, RFECV\n",
    "from sklearn.linear_model import LogisticRegression\n",
    "from sklearn.feature_selection import SelectKBest, f_classif\n",
    "from sklearn.model_selection import StratifiedKFold\n",
    "\n",
    "# create a base classifier used to evaluate a subset of attributes\n",
    "model = LogisticRegression()\n",
    "# create the RFE model and select 3 attributes\n",
    "rfe = RFE(model, 3)\n",
    "rfe.fit(features.iloc[:, :28], features[\"label\"])\n",
    "# summarize the selection of the attributes\n",
    "print(\"RFE NUMBERS:\")\n",
    "print(rfe.ranking_)\n",
    "\n",
    "model = SVC(kernel=\"linear\")\n",
    "rfe = RFE(model, 3)\n",
    "rfe.fit(features.iloc[:, :28], features[\"label\"])\n",
    "print(\"RFE NUMBERS:\")\n",
    "print(rfe.ranking_)\n",
    "\n",
    "#RFE model with Cross Validation\n",
    "#, scoring='accuracy'\n",
    "\n",
    "model = SVC(kernel=\"linear\")\n",
    "rfecv = RFECV(estimator=model, step=1, cv=StratifiedKFold(2))\n",
    "rfecv.fit(features.iloc[:, :28], features[\"label\"])\n",
    "print(\"\\n\\nRFECV NUMBERS:\")\n",
    "print(rfecv.n_features_)\n",
    "print(rfecv.ranking_)\n",
    "model = LogisticRegression()\n",
    "rfecv = RFECV(estimator=model, step=1, cv=StratifiedKFold(2))\n",
    "rfecv.fit(features.iloc[:, :28], features[\"label\"])\n",
    "print(\"RFECV NUMBERS:\")\n",
    "print(rfecv.n_features_)\n",
    "print(rfecv.ranking_)\n",
    "\n",
    "\n",
    "\n",
    "selK = SelectKBest(f_classif, k=6)\n",
    "selK.fit(features.iloc[:, :28], features[\"label\"])\n",
    "print(\"\\n\\nSELECT K BEST NUMBERS:\")\n",
    "print(selK.get_support())\n",
    "print(selK.scores_)"
   ]
  },
  {
   "cell_type": "code",
   "execution_count": null,
   "metadata": {},
   "outputs": [],
   "source": [
    "# Feature Importance\n",
    "from sklearn import datasets\n",
    "from sklearn import metrics\n",
    "from sklearn.ensemble import ExtraTreesClassifier\n",
    "# fit an Extra Trees model to the data\n",
    "model = ExtraTreesClassifier()\n",
    "model.fit(features.iloc[:, :28], features[\"label\"])\n",
    "# display the relative importance of each attribute\n",
    "print(model.feature_importances_)"
   ]
  },
  {
   "cell_type": "code",
   "execution_count": null,
   "metadata": {},
   "outputs": [],
   "source": [
    "#print(__doc__)\n",
    "\n",
    "import matplotlib.pyplot as plt\n",
    "from sklearn.svm import SVC\n",
    "from sklearn.model_selection import StratifiedKFold\n",
    "from sklearn.feature_selection import RFECV\n",
    "from sklearn.feature_selection import RFE\n",
    "from sklearn.datasets import make_classification\n",
    "\n",
    "# Build a classification task using 3 informative features\n",
    "X, y = make_classification(n_samples=1000, n_features=25, n_informative=3,\n",
    "                           n_redundant=2, n_repeated=0, n_classes=8,\n",
    "                           n_clusters_per_class=1, random_state=0)\n",
    "\n",
    "# Create the RFE object and compute a cross-validated score.\n",
    "svc = SVC(kernel=\"linear\")\n",
    "# The \"accuracy\" scoring is proportional to the number of correct\n",
    "# classifications\n",
    "#, scoring='accuracy'\n",
    "rfecv = RFECV(estimator=svc, step=1, cv=StratifiedKFold(2))\n",
    "rfecv.fit(X, y)\n",
    "rfe = RFE(estimator=svc, n_features_to_select=3)\n",
    "rfe.fit(X, y)\n",
    "\n",
    "\n",
    "print(\"Optimal number of features : %d\" % rfecv.n_features_)\n",
    "\n",
    "# Plot number of features VS. cross-validation scores\n",
    "plt.figure()\n",
    "plt.xlabel(\"Number of features selected\")\n",
    "plt.ylabel(\"Cross validation score (nb of correct classifications)\")\n",
    "plt.plot(range(1, len(rfecv.grid_scores_) + 1), rfecv.grid_scores_)\n",
    "#plt.show()\n",
    "print(\"rfecv ranking:\")\n",
    "print(rfecv.ranking_)\n",
    "print(\"rfe ranking:\")\n",
    "print(rfe.ranking_)"
   ]
  },
  {
   "cell_type": "code",
   "execution_count": 19,
   "metadata": {},
   "outputs": [
    {
     "name": "stdout",
     "output_type": "stream",
     "text": [
      "\n",
      "\n",
      "SELECT K BEST NUMBERS:\n",
      "[False False False False False False False False False False  True False\n",
      " False False False False  True  True  True False False False False False\n",
      " False False False False]\n",
      "[330.9079015  422.54146593 335.18651221 382.78688292]\n",
      "\n",
      "\n",
      "SELECT K BEST NUMBERS:\n",
      "[False False False False False False False False False False  True False\n",
      " False False False False  True  True  True False False False False False\n",
      " False False False False]\n",
      "[330.9079015  422.54146593 335.18651221 382.78688292]\n",
      "\n",
      "\n",
      "SELECT K BEST NUMBERS:\n",
      "[False False False False False False False False False False  True False\n",
      " False False False False  True  True  True False False False False False\n",
      " False False False False]\n",
      "[330.9079015  422.54146592 335.18651221 382.78688292]\n"
     ]
    }
   ],
   "source": [
    "from sklearn.feature_selection import SelectKBest, f_classif\n",
    "from sklearn.preprocessing import Normalizer, MinMaxScaler, StandardScaler\n",
    "\n",
    "norm_list = [Normalizer(), StandardScaler(with_mean=False), MinMaxScaler()]\n",
    "selK = SelectKBest(f_classif, k=4)\n",
    "tnfeatures = norm_list[0].transform(tfeatures.iloc[:28,:])\n",
    "nfeatures = tnfeatures.T\n",
    "selK.fit(nfeatures[:, :28], nfeatures[:, -1])\n",
    "print(\"\\n\\nSELECT K BEST NUMBERS:\")\n",
    "print(selK.get_support())\n",
    "print(selK.scores_[selK.get_support()])\n",
    "for norm in norm_list[1:]:\n",
    "    nfeatures = norm.fit_transform(features)\n",
    "    selK.fit(nfeatures[:, :28], nfeatures[:, -1])\n",
    "    print(\"\\n\\nSELECT K BEST NUMBERS:\")\n",
    "    print(selK.get_support())\n",
    "    print(selK.scores_[selK.get_support()])\n",
    "#[330.9079015 422.54146593 335.18651221 382.78688292]"
   ]
  },
  {
   "cell_type": "code",
   "execution_count": null,
   "metadata": {},
   "outputs": [],
   "source": []
  }
 ],
 "metadata": {
  "kernelspec": {
   "display_name": "Python 3",
   "language": "python",
   "name": "python3"
  },
  "language_info": {
   "codemirror_mode": {
    "name": "ipython",
    "version": 3
   },
   "file_extension": ".py",
   "mimetype": "text/x-python",
   "name": "python",
   "nbconvert_exporter": "python",
   "pygments_lexer": "ipython3",
   "version": "3.7.0"
  }
 },
 "nbformat": 4,
 "nbformat_minor": 2
}
